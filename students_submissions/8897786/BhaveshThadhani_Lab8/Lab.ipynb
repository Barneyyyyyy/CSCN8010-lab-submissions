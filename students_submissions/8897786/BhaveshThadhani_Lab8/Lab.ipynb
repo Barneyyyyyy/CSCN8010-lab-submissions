{
 "cells": [
  {
   "cell_type": "code",
   "execution_count": 1,
   "metadata": {},
   "outputs": [
    {
     "name": "stdout",
     "output_type": "stream",
     "text": [
      "Dot Product using PyTorch: tensor(9974.)\n",
      "Matrix Multiplication using PyTorch:\n",
      "tensor([[ 404., 1169.],\n",
      "        [2166., 9835.]])\n"
     ]
    }
   ],
   "source": [
    "import torch\n",
    "\n",
    "# Defining two vectors of length 3 using PyTorch\n",
    "vector1 = torch.tensor([13.0, 11.0, 99.0])\n",
    "vector2 = torch.tensor([15.0, 7.0, 98.0])\n",
    "\n",
    "# Calculating the dot product using PyTorch\n",
    "dot_product_pytorch = torch.dot(vector1, vector2)\n",
    "print(\"Dot Product using PyTorch:\", dot_product_pytorch)\n",
    "\n",
    "# Defining two 2x2 matrices using PyTorch\n",
    "matrix1 = torch.tensor([[13.0, 11.0], [19.0, 99.0]])\n",
    "matrix2 = torch.tensor([[15.0, 7.0], [19.0, 98.0]])\n",
    "\n",
    "# Calculating the matrix multiplication using PyTorch\n",
    "matrix_product_pytorch = torch.mm(matrix1, matrix2)\n",
    "print(\"Matrix Multiplication using PyTorch:\")\n",
    "print(matrix_product_pytorch)\n"
   ]
  },
  {
   "cell_type": "code",
   "execution_count": 1,
   "metadata": {},
   "outputs": [
    {
     "name": "stdout",
     "output_type": "stream",
     "text": [
      "\n",
      "Dot Product using TensorFlow: 9974.0\n",
      "Matrix Multiplication using TensorFlow:\n",
      "[[ 404. 1169.]\n",
      " [2166. 9835.]]\n"
     ]
    }
   ],
   "source": [
    "import tensorflow as tf\n",
    "\n",
    "# Defining two vectors of length 3 using TensorFlow\n",
    "vector1_tf = tf.constant([13.0, 11.0, 99.0])\n",
    "vector2_tf = tf.constant([15.0, 7.0, 98.0])\n",
    "\n",
    "# Calculating the dot product using TensorFlow\n",
    "dot_product_tf = tf.reduce_sum(tf.multiply(vector1_tf, vector2_tf))\n",
    "print(\"\\nDot Product using TensorFlow:\", dot_product_tf.numpy())\n",
    "\n",
    "# Defining two 2x2 matrices using TensorFlow\n",
    "matrix1_tf = tf.constant([[13.0, 11.0], [19.0, 99.0]])\n",
    "matrix2_tf = tf.constant([[15.0, 7.0], [19.0, 98.0]])\n",
    "\n",
    "# Calculating the matrix multiplication using TensorFlow\n",
    "matrix_product_tf = tf.matmul(matrix1_tf, matrix2_tf)\n",
    "print(\"Matrix Multiplication using TensorFlow:\")\n",
    "print(matrix_product_tf.numpy())\n"
   ]
  }
 ],
 "metadata": {
  "kernelspec": {
   "display_name": "tensorflow_cpu",
   "language": "python",
   "name": "python3"
  },
  "language_info": {
   "codemirror_mode": {
    "name": "ipython",
    "version": 3
   },
   "file_extension": ".py",
   "mimetype": "text/x-python",
   "name": "python",
   "nbconvert_exporter": "python",
   "pygments_lexer": "ipython3",
   "version": "3.11.5"
  }
 },
 "nbformat": 4,
 "nbformat_minor": 2
}
