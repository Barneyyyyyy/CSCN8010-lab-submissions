{
 "cells": [
  {
   "cell_type": "code",
   "execution_count": 2,
   "metadata": {},
   "outputs": [],
   "source": [
    "from sklearn import datasets\n",
    "from sklearn.preprocessing import PolynomialFeatures\n",
    "from sklearn.linear_model import LinearRegression\n",
    "from sklearn.model_selection import cross_val_predict\n",
    "from sklearn.metrics import r2_score, mean_absolute_error, mean_squared_error\n",
    "import numpy as np\n",
    "\n",
    "# Load the diabetes dataset\n",
    "diabetes = datasets.load_diabetes()\n",
    "X = diabetes.data\n",
    "y = diabetes.target\n",
    "\n",
    "# Store results\n",
    "results = []\n",
    "\n",
    "for degree in range(9):\n",
    "    # Create polynomial features\n",
    "    polynomial_features = PolynomialFeatures(degree=degree)\n",
    "    X_poly = polynomial_features.fit_transform(X)\n",
    "    \n",
    "    # Linear regression model\n",
    "    model = LinearRegression()\n",
    "    \n",
    "    # Cross-validation predictions\n",
    "    y_pred = cross_val_predict(model, X_poly, y, cv=10)\n",
    "    \n",
    "    # Calculate metrics\n",
    "    r2 = r2_score(y, y_pred)\n",
    "    mae = mean_absolute_error(y, y_pred)\n",
    "    mape = np.mean(np.abs((y - y_pred) / y)) * 100\n",
    "    \n",
    "    results.append((degree, r2, mae, mape))\n"
   ]
  },
  {
   "cell_type": "code",
   "execution_count": 3,
   "metadata": {},
   "outputs": [
    {
     "name": "stdout",
     "output_type": "stream",
     "text": [
      "   Degree  R-Squared         MAE        MAPE\n",
      "0       0  -0.005690   65.921696   62.275447\n",
      "1       1   0.494250   44.214469   39.464995\n",
      "2       2   0.417632   45.865449   39.232201\n",
      "3       3 -26.723490  192.860137  156.617763\n",
      "4       4 -68.671594  328.856742  270.366725\n",
      "5       5 -61.533344  312.237970  256.653278\n",
      "6       6 -61.412675  312.045035  256.498316\n",
      "7       7 -61.410800  312.041500  256.496771\n",
      "8       8 -61.413403  312.044204  256.501218\n"
     ]
    }
   ],
   "source": [
    "import pandas as pd\n",
    "\n",
    "# Convert results to DataFrame\n",
    "# Convert results to DataFrame\n",
    "df = pd.DataFrame(\n",
    "    results,\n",
    "    columns=['Degree', 'R-Squared', 'MAE', 'MAPE']\n",
    ")\n",
    "print(df)\n",
    "\n"
   ]
  },
  {
   "cell_type": "code",
   "execution_count": 4,
   "metadata": {},
   "outputs": [
    {
     "name": "stdout",
     "output_type": "stream",
     "text": [
      "The best model is of degree 1.0.\n"
     ]
    }
   ],
   "source": [
    "# Criteria for best model\n",
    "best_idx = df['R-Squared'].idxmax()\n",
    "\n",
    "best_degree = df.iloc[best_idx]['Degree']\n",
    "print(f\"The best model is of degree {best_degree}.\")\n",
    "\n"
   ]
  }
 ],
 "metadata": {
  "kernelspec": {
   "display_name": "CSCN8010_classic_ml",
   "language": "python",
   "name": "cscn8010_classic_ml"
  },
  "language_info": {
   "codemirror_mode": {
    "name": "ipython",
    "version": 3
   },
   "file_extension": ".py",
   "mimetype": "text/x-python",
   "name": "python",
   "nbconvert_exporter": "python",
   "pygments_lexer": "ipython3",
   "version": "3.12.0"
  },
  "orig_nbformat": 4
 },
 "nbformat": 4,
 "nbformat_minor": 2
}
