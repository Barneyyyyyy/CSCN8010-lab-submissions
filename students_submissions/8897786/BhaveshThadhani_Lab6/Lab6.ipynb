{
 "cells": [
  {
   "cell_type": "code",
   "execution_count": 7,
   "metadata": {},
   "outputs": [
    {
     "name": "stdout",
     "output_type": "stream",
     "text": [
      "Instances where the model is wrong:\n",
      "[]\n",
      "\n",
      "Shared properties can be determined by closely inspecting the above instances.\n",
      "\n",
      "Accuracy: 1.0\n",
      "Confusion Matrix:\n",
      " [[32  0]\n",
      " [ 0 13]]\n"
     ]
    }
   ],
   "source": [
    "# Preparing the Data\n",
    "from sklearn import datasets\n",
    "import pandas as pd\n",
    "from sklearn.model_selection import train_test_split\n",
    "from sklearn.linear_model import LogisticRegression\n",
    "from sklearn.metrics import accuracy_score, confusion_matrix\n",
    "\n",
    "# Loading the given dataset\n",
    "iris = datasets.load_iris()\n",
    "X = iris.data\n",
    "y = (iris.target == 2).astype(int)  # Convert to 'virginica' and 'non-virginica'\n",
    "\n",
    "# Training a Logistic Regression Model\n",
    "X_train, X_test, y_train, y_test = train_test_split(X, y, test_size=0.3, random_state=42)\n",
    "clf = LogisticRegression()\n",
    "clf.fit(X_train, y_train)\n",
    "\n",
    "# Evaluating the Model\n",
    "y_pred = clf.predict(X_test)\n",
    "\n",
    "# Cheking where the model is wrong\n",
    "wrong_predictions = X_test[y_pred != y_test]\n",
    "\n",
    "print(\"Instances where the model is wrong:\")\n",
    "print(wrong_predictions)\n",
    "\n",
    "print(\"\\nShared properties can be determined by closely inspecting the above instances.\")\n",
    "\n",
    "# Computing accuracy and confusion matrix\n",
    "accuracy = accuracy_score(y_test, y_pred)\n",
    "cm = confusion_matrix(y_test, y_pred)\n",
    "\n",
    "print(\"\\nAccuracy:\", accuracy)\n",
    "print(\"Confusion Matrix:\\n\", cm)\n"
   ]
  }
 ],
 "metadata": {
  "kernelspec": {
   "display_name": "CSCN8010_classic_ml",
   "language": "python",
   "name": "cscn8010_classic_ml"
  },
  "language_info": {
   "codemirror_mode": {
    "name": "ipython",
    "version": 3
   },
   "file_extension": ".py",
   "mimetype": "text/x-python",
   "name": "python",
   "nbconvert_exporter": "python",
   "pygments_lexer": "ipython3",
   "version": "3.12.0"
  }
 },
 "nbformat": 4,
 "nbformat_minor": 2
}
