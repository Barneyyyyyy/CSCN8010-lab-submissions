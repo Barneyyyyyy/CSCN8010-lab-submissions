{
 "cells": [
  {
   "attachments": {},
   "cell_type": "markdown",
   "metadata": {},
   "source": [
    "LAB - 5\n",
    "Mohammed Abuzar Younus - 8903244"
   ]
  },
  {
   "cell_type": "code",
   "execution_count": 86,
   "metadata": {},
   "outputs": [],
   "source": [
    "import pandas as pd\n",
    "import numpy as np\n",
    "import seaborn as sns\n",
    "from sklearn.linear_model import LinearRegression\n",
    "from sklearn import datasets\n",
    "import matplotlib.pyplot as plt\n",
    "from sklearn.model_selection import train_test_split\n",
    "from sklearn.preprocessing import PolynomialFeatures\n",
    "from sklearn.pipeline import make_pipeline\n",
    "from sklearn.model_selection import cross_val_score\n",
    "from sklearn.linear_model import LinearRegression\n",
    "from sklearn.model_selection import cross_val_score, cross_val_predict\n",
    "from sklearn.preprocessing import PolynomialFeatures\n",
    "from sklearn.pipeline import make_pipeline"
   ]
  },
  {
   "cell_type": "code",
   "execution_count": 87,
   "metadata": {},
   "outputs": [],
   "source": [
    "X, y = datasets.load_diabetes(as_frame=True, scaled=False, return_X_y=True)\n"
   ]
  },
  {
   "cell_type": "code",
   "execution_count": 88,
   "metadata": {},
   "outputs": [],
   "source": [
    "# Define the range of polynomial degrees\n",
    "degrees = range(9)\n",
    "\n",
    "# Create an empty list to store the cross-validation scores\n",
    "cv_scores = []\n",
    "\n",
    "# Perform cross-validation for each polynomial degree\n",
    "for degree in degrees:\n",
    "    # Create a pipeline with PolynomialFeatures and LinearRegression\n",
    "    model = make_pipeline(PolynomialFeatures(degree), LinearRegression())\n",
    "    \n",
    "    # Perform cross-validation using 5-fold cross-validation\n",
    "    scores = cross_val_score(model, X, y, cv=5, scoring='neg_mean_squared_error')\n",
    "    \n",
    "    # Calculate the mean squared error (MSE) and store it in the list\n",
    "    cv_scores.append(-np.mean(scores))\n",
    "\n",
    "# Find the polynomial degree with the minimum mean squared error (MSE)\n",
    "best_degree = np.argmin(cv_scores)\n"
   ]
  },
  {
   "cell_type": "code",
   "execution_count": 89,
   "metadata": {},
   "outputs": [
    {
     "name": "stdout",
     "output_type": "stream",
     "text": [
      "Best degree: 1\n"
     ]
    }
   ],
   "source": [
    "print(\"Best degree:\", best_degree)\n"
   ]
  },
  {
   "cell_type": "code",
   "execution_count": 90,
   "metadata": {},
   "outputs": [
    {
     "name": "stdout",
     "output_type": "stream",
     "text": [
      "  Degree   R-Squared         MAE\n",
      "0      0   -0.008824   66.039250\n",
      "1      1    0.495322   44.274856\n",
      "2      2    0.410853   46.602887\n",
      "3      3 -170.619709  341.154901\n",
      "4      4  -71.859940  303.102402\n",
      "5      5  -68.544073  295.638158\n",
      "6      6  -68.610219  295.584336\n",
      "7      7  -68.611392  295.582874\n",
      "8      8  -68.605160  295.533335\n",
      "\n",
      "Mean R-Squared: -57.328 (Std: 54.218)\n",
      "Mean MAE: 220.390 (Std: 127.026)\n"
     ]
    }
   ],
   "source": [
    "import pandas as pd\n",
    "from sklearn.datasets import load_diabetes\n",
    "from sklearn.linear_model import LinearRegression\n",
    "from sklearn.model_selection import cross_val_score, cross_val_predict\n",
    "from sklearn.metrics import r2_score, mean_absolute_error\n",
    "from sklearn.preprocessing import PolynomialFeatures\n",
    "from sklearn.pipeline import make_pipeline\n",
    "\n",
    "# Load the diabetes dataset\n",
    "diabetes = load_diabetes()\n",
    "\n",
    "# Extract the features (X) and target variable (y)\n",
    "X = diabetes.data\n",
    "y = diabetes.target\n",
    "\n",
    "# Define the range of polynomial degrees\n",
    "degrees = range(9)\n",
    "\n",
    "# Create an empty DataFrame to store the results\n",
    "results = pd.DataFrame(columns=['Degree', 'R-Squared', 'MAE'])\n",
    "\n",
    "# Perform cross-validation for each polynomial degree\n",
    "for degree in degrees:\n",
    "    # Create a pipeline with PolynomialFeatures and LinearRegression\n",
    "    model = make_pipeline(PolynomialFeatures(degree), LinearRegression())\n",
    "    \n",
    "    # Perform cross-validation using 5-fold cross-validation\n",
    "    scores = cross_val_score(model, X, y, cv=5, scoring='neg_mean_squared_error')\n",
    "    \n",
    "    # Calculate the R-Squared and MAE metrics\n",
    "    y_pred = cross_val_predict(model, X, y, cv=5)\n",
    "    r2 = r2_score(y, y_pred)\n",
    "    mae = mean_absolute_error(y, y_pred)\n",
    "    \n",
    "    # Create a new DataFrame row with the results\n",
    "    row = pd.DataFrame([[degree, r2, mae]], columns=['Degree', 'R-Squared', 'MAE'])\n",
    "    \n",
    "    # Concatenate the row to the results DataFrame\n",
    "    results = pd.concat([results, row], ignore_index=True)\n",
    "\n",
    "# Calculate the mean and standard deviation of the metrics\n",
    "mean_r2 = results['R-Squared'].mean()\n",
    "std_r2 = results['R-Squared'].std()\n",
    "mean_mae = results['MAE'].mean()\n",
    "std_mae = results['MAE'].std()\n",
    "\n",
    "# Print the results table\n",
    "print(results)\n",
    "print(f\"\\nMean R-Squared: {mean_r2:.3f} (Std: {std_r2:.3f})\")\n",
    "print(f\"Mean MAE: {mean_mae:.3f} (Std: {std_mae:.3f})\")\n"
   ]
  },
  {
   "attachments": {},
   "cell_type": "markdown",
   "metadata": {},
   "source": [
    "To identify the best model based on the R-Squared and MAE metrics, you can examine the results table generated from the cross-validation. The model with the highest R-Squared value and the lowest MAE value generally indicates better performance. Here's an example of how you can identify the best model using the provided code:"
   ]
  },
  {
   "cell_type": "code",
   "execution_count": 91,
   "metadata": {},
   "outputs": [
    {
     "name": "stdout",
     "output_type": "stream",
     "text": [
      "Best Model based on R-Squared:\n",
      "Degree               1\n",
      "R-Squared     0.495322\n",
      "MAE          44.274856\n",
      "Name: 1, dtype: object\n",
      "\n",
      "Best Model based on MAE:\n",
      "Degree               1\n",
      "R-Squared     0.495322\n",
      "MAE          44.274856\n",
      "Name: 1, dtype: object\n"
     ]
    }
   ],
   "source": [
    "# Find the model with the highest R-Squared value\n",
    "best_r2_model = results.loc[results['R-Squared'].idxmax()]\n",
    "\n",
    "# Find the model with the lowest MAE value\n",
    "best_mae_model = results.loc[results['MAE'].idxmin()]\n",
    "\n",
    "# Print the results for the best model based on R-Squared\n",
    "print(\"Best Model based on R-Squared:\")\n",
    "print(best_r2_model)\n",
    "\n",
    "# Print the results for the best model based on MAE\n",
    "print(\"\\nBest Model based on MAE:\")\n",
    "print(best_mae_model)\n"
   ]
  },
  {
   "attachments": {},
   "cell_type": "markdown",
   "metadata": {},
   "source": [
    "This code will identify the best model based on the highest R-Squared value and the lowest MAE value from the cross-validation results. The 'best_r2_model' and 'best_mae_model' variables will contain the row of the results table corresponding to the best model for each metric.\n",
    "\n",
    "You can choose the specific model based on your preference. If you prioritize a higher R-Squared value, the model with the highest R-Squared can be considered the best. On the other hand, if you prioritize a lower MAE value, the model with the lowest MAE can be chosen. It ultimately depends on the specific requirements and goals of your analysis."
   ]
  }
 ],
 "metadata": {
  "kernelspec": {
   "display_name": "Python 3",
   "language": "python",
   "name": "python3"
  },
  "language_info": {
   "codemirror_mode": {
    "name": "ipython",
    "version": 3
   },
   "file_extension": ".py",
   "mimetype": "text/x-python",
   "name": "python",
   "nbconvert_exporter": "python",
   "pygments_lexer": "ipython3",
   "version": "3.11.1"
  },
  "orig_nbformat": 4
 },
 "nbformat": 4,
 "nbformat_minor": 2
}
